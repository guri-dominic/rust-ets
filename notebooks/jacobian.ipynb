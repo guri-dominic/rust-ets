{
 "cells": [
  {
   "cell_type": "code",
   "execution_count": 1,
   "metadata": {},
   "outputs": [],
   "source": [
    "import roboticstoolbox as rtb\n",
    "import numpy as np\n",
    "import matplotlib\n",
    "import matplotlib.pyplot as plt\n",
    "import spatialmath as sm"
   ]
  },
  {
   "cell_type": "code",
   "execution_count": 2,
   "metadata": {},
   "outputs": [
    {
     "name": "stdout",
     "output_type": "stream",
     "text": [
      "SE3(0, 0, 0.333) ⊕ Rz(q0) ⊕ SE3(-90°, -0°, 0°) ⊕ Rz(q1) ⊕ SE3(0, -0.316, 0; 90°, -0°, 0°) ⊕ Rz(q2) ⊕ SE3(0.0825, 0, 0; 90°, -0°, 0°) ⊕ Rz(q3) ⊕ SE3(-0.0825, 0.384, 0; -90°, -0°, 0°) ⊕ Rz(q4) ⊕ SE3(90°, -0°, 0°) ⊕ Rz(q5) ⊕ SE3(0.088, 0, 0; 90°, -0°, 0°) ⊕ Rz(q6) ⊕ SE3(0, 0, 0.107) ⊕ SE3(0°, -0°, -45°) ⊕ SE3(0, 0, 0.1034)\n"
     ]
    }
   ],
   "source": [
    "import roboticstoolbox as rtb\n",
    "robot = rtb.models.Panda()\n",
    "ets = robot.ets().copy()\n",
    "print(ets)"
   ]
  },
  {
   "cell_type": "code",
   "execution_count": 3,
   "metadata": {},
   "outputs": [],
   "source": [
    "def jacob0(\n",
    "    ets,\n",
    "    q,\n",
    "    tool = None,\n",
    "):\n",
    "    r\"\"\"\n",
    "    `\\nu = (v_x, v_y, v_z, \\omega_x, \\omega_y, \\omega_z)^T`\n",
    "    is related to joint velocity by :math:`{}^{E}\\!\\nu = \\mathbf{J}_m(q) \\dot{q}`.\n",
    "\n",
    "    \"\"\"  # noqa\n",
    "\n",
    "    # Use c extension\n",
    "    # try:\n",
    "    #     return ETS_jacob0(ets._fknm, q, tool)\n",
    "    # except TypeError:\n",
    "    #     pass\n",
    "\n",
    "    # Otherwise use Python\n",
    "    if tool is None:\n",
    "        tools = np.eye(4)\n",
    "    elif isinstance(tool, sm.SE3):\n",
    "        tools = np.array(tool.A)\n",
    "    else:  # pragma: nocover\n",
    "        tools = np.eye(4)\n",
    "\n",
    "    # q = getvector(q, None)\n",
    "\n",
    "    T = ets.eval(q, include_base=False) @ tools\n",
    "\n",
    "    U = np.eye(4)\n",
    "    j = 0\n",
    "    J = np.zeros((6, ets.n), dtype=np.float64)\n",
    "    zero = np.array([0, 0, 0])\n",
    "    end = ets.data[-1]\n",
    "\n",
    "    for link in ets.data:\n",
    "\n",
    "        jindex = 0 if link.jindex is None and link.isjoint else link.jindex\n",
    "\n",
    "        if link.isjoint:\n",
    "            U = U @ link.A(q[jindex])  # type: ignore\n",
    "\n",
    "            if link == end:\n",
    "                U = U @ tools\n",
    "\n",
    "            Tu = sm.SE3(U, check=False).inv().A @ T\n",
    "            n = U[:3, 0]\n",
    "            o = U[:3, 1]\n",
    "            a = U[:3, 2]\n",
    "            x = Tu[0, 3]\n",
    "            y = Tu[1, 3]\n",
    "            z = Tu[2, 3]\n",
    "\n",
    "            if link.axis == \"Rz\":\n",
    "                print(f' >> Rz {jindex}<<')\n",
    "                J[:3, j] = (o * x) - (n * y)\n",
    "                J[3:, j] = a\n",
    "\n",
    "            elif link.axis == \"Ry\":\n",
    "                J[:3, j] = (n * z) - (a * x)\n",
    "                J[3:, j] = o\n",
    "\n",
    "            elif link.axis == \"Rx\":\n",
    "                J[:3, j] = (a * y) - (o * z)\n",
    "                J[3:, j] = n\n",
    "\n",
    "            elif link.axis == \"tx\":\n",
    "                J[:3, j] = n\n",
    "                J[3:, j] = zero\n",
    "\n",
    "            elif link.axis == \"ty\":\n",
    "                J[:3, j] = o\n",
    "                J[3:, j] = zero\n",
    "\n",
    "            elif link.axis == \"tz\":\n",
    "                J[:3, j] = a\n",
    "                J[3:, j] = zero\n",
    "\n",
    "            j += 1\n",
    "        else:\n",
    "            A = link.A()\n",
    "            if A is not None:\n",
    "                U = U @ A\n",
    "\n",
    "    return J"
   ]
  },
  {
   "cell_type": "code",
   "execution_count": 4,
   "metadata": {},
   "outputs": [],
   "source": [
    "q = ets.random_q()\n",
    "q = np.zeros(7)\n",
    "# q = np.ones(7)"
   ]
  },
  {
   "cell_type": "code",
   "execution_count": 5,
   "metadata": {},
   "outputs": [
    {
     "name": "stdout",
     "output_type": "stream",
     "text": [
      "<class 'numpy.ndarray'>   float64\n",
      "[[ 0.      0.4896  0.     -0.1736  0.      0.2104  0.    ]\n",
      " [ 0.088  -0.      0.088   0.      0.088   0.      0.    ]\n",
      " [-0.     -0.088   0.      0.0055  0.      0.088   0.    ]\n",
      " [-0.      0.      0.      0.      0.      0.      0.    ]\n",
      " [ 0.      1.     -0.     -1.     -0.     -1.     -0.    ]\n",
      " [ 1.      0.      1.      0.      1.      0.     -1.    ]]\n",
      "\n",
      " [[ 0.70710678  0.70710678  0.          0.088     ]\n",
      " [ 0.70710678 -0.70710678 -0.         -0.        ]\n",
      " [-0.          0.         -1.          0.8226    ]\n",
      " [ 0.          0.          0.          1.        ]]\n"
     ]
    }
   ],
   "source": [
    "# np.set_printoptions(precision=4)\n",
    "# formatter={'all':lambda x: 'int: '+str(-x)}\n",
    "# formatter={'all': lambda x: f'{x:.4f}')}\n",
    "np.set_printoptions(\n",
    "    edgeitems=3, \n",
    "    infstr='inf',\n",
    "    linewidth=120, \n",
    "    nanstr='nan', \n",
    "    precision=8,\n",
    "    suppress=True, \n",
    "    threshold=1000, \n",
    "    formatter=None\n",
    ")\n",
    "\n",
    "J = robot.jacob0(q)\n",
    "print(type(J), \" \", J.dtype)\n",
    "print(J)\n",
    "print(\"\\n\", robot.fkine(q).A)"
   ]
  },
  {
   "cell_type": "code",
   "execution_count": 6,
   "metadata": {},
   "outputs": [
    {
     "name": "stdout",
     "output_type": "stream",
     "text": [
      " >> Rz 0<<\n",
      " >> Rz 1<<\n",
      " >> Rz 2<<\n",
      " >> Rz 3<<\n",
      " >> Rz 4<<\n",
      " >> Rz 5<<\n",
      " >> Rz 6<<\n",
      "<class 'numpy.ndarray'>   float64   <class 'numpy.float64'>\n",
      "[[ 0.      0.4896  0.     -0.1736  0.      0.2104  0.    ]\n",
      " [ 0.088   0.      0.088   0.      0.088   0.     -0.    ]\n",
      " [ 0.     -0.088   0.      0.0055  0.      0.088   0.    ]\n",
      " [ 0.      0.      0.      0.      0.      0.      0.    ]\n",
      " [ 0.      1.      0.     -1.      0.     -1.     -0.    ]\n",
      " [ 1.      0.      1.      0.      1.      0.     -1.    ]]\n",
      "\n",
      " [[ 0.70710678  0.70710678  0.          0.088     ]\n",
      " [ 0.70710678 -0.70710678 -0.         -0.        ]\n",
      " [-0.          0.         -1.          0.8226    ]\n",
      " [ 0.          0.          0.          1.        ]]\n"
     ]
    }
   ],
   "source": [
    "J = jacob0(ets, q)\n",
    "print(type(J), \" \", J.dtype, \" \", type(J[0,0]))\n",
    "print(J)\n",
    "\n",
    "print(\"\\n\", ets.fkine(q).A)"
   ]
  },
  {
   "cell_type": "code",
   "execution_count": null,
   "metadata": {},
   "outputs": [],
   "source": []
  },
  {
   "cell_type": "code",
   "execution_count": 7,
   "metadata": {},
   "outputs": [
    {
     "data": {
      "text/plain": [
       "array([[ 0.    ,  0.4896,  0.    , -0.1736,  0.    ,  0.2104,  0.    ],\n",
       "       [ 0.088 ,  0.    ,  0.088 ,  0.    ,  0.088 ,  0.    , -0.    ],\n",
       "       [ 0.    , -0.088 ,  0.    ,  0.0055,  0.    ,  0.088 ,  0.    ],\n",
       "       [ 0.    ,  0.    ,  0.    ,  0.    ,  0.    ,  0.    ,  0.    ],\n",
       "       [ 0.    ,  1.    ,  0.    , -1.    ,  0.    , -1.    , -0.    ],\n",
       "       [ 1.    ,  0.    ,  1.    ,  0.    ,  1.    ,  0.    , -1.    ]])"
      ]
     },
     "execution_count": 7,
     "metadata": {},
     "output_type": "execute_result"
    }
   ],
   "source": [
    "T = ets.eval(q, include_base=False)\n",
    "\n",
    "U = np.eye(4)\n",
    "j = 0\n",
    "J = np.zeros((6, ets.n), dtype=np.float64)\n",
    "zero = np.array([0, 0, 0])\n",
    "end = ets.data[-1]\n",
    "\n",
    "for iter_, link in enumerate(ets.data):\n",
    "    jindex = 0 if link.jindex is None and link.isjoint else link.jindex\n",
    "    \n",
    "    if link.isjoint:\n",
    "        U = U @ link.A(q[jindex])  # type: ignore\n",
    "\n",
    "        if link == end:\n",
    "            U = U @ tools\n",
    "        Tu = sm.SE3(U, check=False).inv().A @ T\n",
    "        # print(f\"Tu = \")\n",
    "        # print(Tu)\n",
    "        n = U[:3, 0]\n",
    "        # print(f\"u = {n}\")\n",
    "        o = U[:3, 1]\n",
    "        a = U[:3, 2]\n",
    "        x = Tu[0, 3]\n",
    "        y = Tu[1, 3]\n",
    "        z = Tu[2, 3]\n",
    "\n",
    "        if link.axis == \"Rz\":\n",
    "            J[:3, j] = (o * x) - (n * y)\n",
    "            J[3:, j] = a\n",
    "            # print(f' \\t\\t\\t>> {jindex} << {J[:,j]}')\n",
    "\n",
    "        elif link.axis == \"Ry\":\n",
    "            J[:3, j] = (n * z) - (a * x)\n",
    "            J[3:, j] = o\n",
    "\n",
    "        elif link.axis == \"Rx\":\n",
    "            J[:3, j] = (a * y) - (o * z)\n",
    "            J[3:, j] = n\n",
    "\n",
    "        elif link.axis == \"tx\":\n",
    "            J[:3, j] = n\n",
    "            J[3:, j] = zero\n",
    "\n",
    "        elif link.axis == \"ty\":\n",
    "            J[:3, j] = o\n",
    "            J[3:, j] = zero\n",
    "\n",
    "        elif link.axis == \"tz\":\n",
    "            J[:3, j] = a\n",
    "            J[3:, j] = zero\n",
    "\n",
    "        j += 1\n",
    "    else:\n",
    "        A = link.A()\n",
    "        if A is not None:\n",
    "            U = U @ A\n",
    "\n",
    "J"
   ]
  },
  {
   "cell_type": "code",
   "execution_count": 8,
   "metadata": {},
   "outputs": [
    {
     "data": {
      "text/plain": [
       "True"
      ]
     },
     "execution_count": 8,
     "metadata": {},
     "output_type": "execute_result"
    }
   ],
   "source": [
    "Jtest = np.array([\n",
    "    [0.00000000,  0.48960000,  0.00000000, -0.17360000,  0.00000000,  0.21040000,  0.00000000],\n",
    "    [0.08800000,  0.00000000,  0.08800000,  0.00000000,  0.08800000,  0.00000000, -0.00000000],\n",
    "    [0.00000000, -0.08800000,  0.00000000,  0.00550000,  0.00000000,  0.08800000,  0.00000000],\n",
    "    [0.00000000,  0.00000000,  0.00000000,  0.00000000,  0.00000000,  0.00000000,  0.00000000],\n",
    "    [0.00000000,  1.00000000,  0.00000000, -1.00000000,  0.00000000, -1.00000000, -0.00000000],\n",
    "    [1.00000000,  0.00000000,  1.00000000,  0.00000000,  1.00000000,  0.00000000, -1.00000000],\n",
    "])\n",
    "\n",
    "np.allclose(Jtest, J)"
   ]
  },
  {
   "cell_type": "code",
   "execution_count": 9,
   "metadata": {},
   "outputs": [],
   "source": [
    "def angle_axis_python(T, Td):\n",
    "    e = np.empty(6)\n",
    "    e[:3] = Td[:3, -1] - T[:3, -1]\n",
    "    R = Td[:3, :3] @ T[:3, :3].T\n",
    "    li = np.array([R[2, 1] - R[1, 2], R[0, 2] - R[2, 0], R[1, 0] - R[0, 1]])\n",
    "    if base.iszerovec(li):\n",
    "        # diagonal matrix case\n",
    "        if np.trace(R) > 0:\n",
    "            # (1,1,1) case\n",
    "            a = np.zeros((3,))\n",
    "        else:\n",
    "            a = np.pi / 2 * (np.diag(R) + 1)\n",
    "    else:\n",
    "        # non-diagonal matrix case\n",
    "        ln = base.norm(li)\n",
    "        a = math.atan2(ln, np.trace(R) - 1) * li / ln\n",
    "    e[3:] = a\n",
    "    return e\n",
    "\n",
    "def angle_axis(Te:sm.SE3, Tp:sm.SE3):\n",
    "    e = np.zeros(6)\n",
    "    e[3:] = Tp.t - Te.t \n",
    "    R = Tp.R * T.R.T \n",
    "    li = np.array([R[2, 1] - R[1, 2], R[0, 2] - R[2, 0], R[1, 0] - R[0, 1]])\n",
    "    R_trace = R.trace()\n",
    "    li_norm = np.linalg.norm(li)\n",
    "    if li_norm < 1e-6:\n",
    "        if R_trace > 0:\n",
    "            e[:3] = 0\n",
    "        else:\n",
    "            e[0] = 0.5 * np.pi * (R[0,0] + 1)\n",
    "            e[1] = 0.5 * np.pi * (R[1,1] + 1)\n",
    "            e[2] = 0.5 * np.pi * (R[2,2] + 1)\n",
    "    else:\n",
    "        angle = np.arctan2(li_norm, R_trace - 1)\n",
    "        e[:3] = angle * li / li_norm\n",
    "    return e"
   ]
  },
  {
   "cell_type": "code",
   "execution_count": 10,
   "metadata": {},
   "outputs": [
    {
     "data": {
      "text/plain": [
       "2.6332584867367728"
      ]
     },
     "execution_count": 10,
     "metadata": {},
     "output_type": "execute_result"
    }
   ],
   "source": [
    "ee_ = np.array([1.7599884037881872, 0.7290110664684424, 1.7599884037881872, 0.262, 0.00000000000000002160276953695931, -0.3725999999999999])\n",
    "np.linalg.norm(ee_)"
   ]
  },
  {
   "cell_type": "code",
   "execution_count": 11,
   "metadata": {},
   "outputs": [
    {
     "data": {
      "text/plain": [
       "3.4670251289856187"
      ]
     },
     "execution_count": 11,
     "metadata": {},
     "output_type": "execute_result"
    }
   ],
   "source": [
    "# 0.5 * ee_ @ np.eye(6) @ ee_\n",
    "0.5 * ee_ @ ee_"
   ]
  },
  {
   "cell_type": "code",
   "execution_count": 15,
   "metadata": {},
   "outputs": [],
   "source": [
    "def ik(\n",
    "        ets,\n",
    "        T,\n",
    "        q0 = None,\n",
    "        base: sm.SE3 = sm.SE3(),\n",
    "        tool: sm.SE3 = sm.SE3(),\n",
    "        maxiter = 50,\n",
    "        We = np.diag(np.ones(6)),\n",
    "        tol = 1e-6\n",
    "):\n",
    "    qk = ets.random_q()\n",
    "    if q0 is not None:\n",
    "        qk = q0.copy()\n",
    "    #  qk, _ = ik(ets, T, base=base, tool=tool)\n",
    "    Tk = ets.fkine(qk, base=base)\n",
    "    np.allclose(Tk.A, T.A, atol=1e-3)\n",
    "    k = 0\n",
    "    while k < maxiter:\n",
    "        k += 1\n",
    "        Tk = ets.fkine(qk)\n",
    "        err = angle_axis(base.inv() * Tk, base.inv() * T)\n",
    "        Err = 0.5 * err @ We @ err\n",
    "        J = ets.jacob0(qk)\n",
    "        g = J.T @ We @ err\n",
    "        λ = 0.1\n",
    "        Wn = λ * Err * np.eye(ets.n)\n",
    "        dq = np.linalg.inv(J.T @ We @ J + Wn) @ g\n",
    "        qk += dq\n",
    "        if Err < tol:\n",
    "            break\n",
    "    qk = np.array([np.arctan2(np.sin(v), np.cos(v)) for v in qk])\n",
    "    return qk, Err < tol"
   ]
  },
  {
   "cell_type": "code",
   "execution_count": 16,
   "metadata": {},
   "outputs": [],
   "source": [
    "def ik2(\n",
    "        ets,\n",
    "        desired_target,\n",
    "        q0 = None,\n",
    "        base: sm.SE3 = sm.SE3(),\n",
    "        tool: sm.SE3 = sm.SE3(),\n",
    "        maxiter = 50,\n",
    "        We = np.diag(np.ones(6)),\n",
    "        tolerance = 1e-6\n",
    "):\n",
    "    qk = ets.random_q()\n",
    "    if q0 is not None:\n",
    "        qk = q0.copy()\n",
    "    #  qk, _ = ik(ets, desired_target, base=base, tool=tool)\n",
    "    Tk = ets.fkine(qk)\n",
    "    np.allclose(Tk.A, desired_target.A, atol=1e-3)\n",
    "    k = 0\n",
    "    while k < maxiter:\n",
    "        k += 1\n",
    "        Tk = ets.fkine(qk)\n",
    "        residual = rbt.angle_axis(base.inv() * Tk, base.inv() * desired_target)\n",
    "        residual_norm = 0.5 * residual @ We @ residual\n",
    "        J = ets.fkine(qk)\n",
    "        g = J.T @ We @ residual\n",
    "        ## Gauss-Newton: ===\n",
    "        # >> q += np.linalg.pinv(J.T @ self.We @ J) @ g + qnull\n",
    "        #  dq = np.linalg.pinv(J.T @ We @ J) @ g \n",
    "        ## Levenberg-Marquardt (LM): ===\n",
    "        # >> q += np.linalg.inv(J.T @ self.We @ J + Wn) @ g + qnull\n",
    "        λ = 0.1\n",
    "        Wn = λ * residual_norm * np.eye(ets.n)\n",
    "        dq = np.linalg.inv(J.T @ We @ J + Wn) @ g\n",
    "        qk += dq\n",
    "        #  logging.logging(f'{k}: (residual_norm={residual_norm})  dq = {dq}')\n",
    "        if residual_norm < tolerance:\n",
    "            #  logging.logging(f'EXIT: k = {k}, Error={residual_norm}')\n",
    "            break\n",
    "    #  Tk = fk(ets, qk, base=base, tool=tool)\n",
    "    #  np.allclose(Tk.A, desired_target.A, atol=1e-3)\n",
    "    qk = np.array([np.arctan2(np.sin(v), np.cos(v)) for v in qk])\n",
    "    return qk, residual_norm < tolerance"
   ]
  },
  {
   "cell_type": "code",
   "execution_count": 17,
   "metadata": {},
   "outputs": [
    {
     "ename": "NameError",
     "evalue": "name 'fk' is not defined",
     "output_type": "error",
     "traceback": [
      "\u001b[0;31m---------------------------------------------------------------------------\u001b[0m",
      "\u001b[0;31mNameError\u001b[0m                                 Traceback (most recent call last)",
      "Cell \u001b[0;32mIn[17], line 3\u001b[0m\n\u001b[1;32m      1\u001b[0m T \u001b[38;5;241m=\u001b[39m sm\u001b[38;5;241m.\u001b[39mSE3\u001b[38;5;241m.\u001b[39mTrans(\u001b[38;5;241m0.35\u001b[39m, \u001b[38;5;241m0\u001b[39m, \u001b[38;5;241m0.45\u001b[39m) \u001b[38;5;241m*\u001b[39m sm\u001b[38;5;241m.\u001b[39mSE3\u001b[38;5;241m.\u001b[39mRPY(\u001b[38;5;241m0\u001b[39m, \u001b[38;5;241m-\u001b[39m\u001b[38;5;241m0.5\u001b[39m\u001b[38;5;241m*\u001b[39mnp\u001b[38;5;241m.\u001b[39mpi, \u001b[38;5;241m0\u001b[39m)\n\u001b[1;32m      2\u001b[0m \u001b[38;5;66;03m# qt, success = ik(ets, T)\u001b[39;00m\n\u001b[0;32m----> 3\u001b[0m qt, success \u001b[38;5;241m=\u001b[39m \u001b[43mik2\u001b[49m\u001b[43m(\u001b[49m\u001b[43mets\u001b[49m\u001b[43m,\u001b[49m\u001b[43m \u001b[49m\u001b[43mT\u001b[49m\u001b[43m)\u001b[49m\n\u001b[1;32m      4\u001b[0m ets\u001b[38;5;241m.\u001b[39mfkine(qt)\n",
      "Cell \u001b[0;32mIn[16], line 20\u001b[0m, in \u001b[0;36mik2\u001b[0;34m(ets, desired_target, q0, base, tool, maxiter, We, tolerance)\u001b[0m\n\u001b[1;32m     18\u001b[0m \u001b[38;5;28;01mwhile\u001b[39;00m k \u001b[38;5;241m<\u001b[39m maxiter:\n\u001b[1;32m     19\u001b[0m     k \u001b[38;5;241m+\u001b[39m\u001b[38;5;241m=\u001b[39m \u001b[38;5;241m1\u001b[39m\n\u001b[0;32m---> 20\u001b[0m     Tk \u001b[38;5;241m=\u001b[39m \u001b[43mfk\u001b[49m(ets, qk, base\u001b[38;5;241m=\u001b[39mbase, tool\u001b[38;5;241m=\u001b[39mtool)\n\u001b[1;32m     21\u001b[0m     residual \u001b[38;5;241m=\u001b[39m rbt\u001b[38;5;241m.\u001b[39mangle_axis(base\u001b[38;5;241m.\u001b[39minv() \u001b[38;5;241m*\u001b[39m Tk, base\u001b[38;5;241m.\u001b[39minv() \u001b[38;5;241m*\u001b[39m desired_target)\n\u001b[1;32m     22\u001b[0m     residual_norm \u001b[38;5;241m=\u001b[39m \u001b[38;5;241m0.5\u001b[39m \u001b[38;5;241m*\u001b[39m residual \u001b[38;5;241m@\u001b[39m We \u001b[38;5;241m@\u001b[39m residual\n",
      "\u001b[0;31mNameError\u001b[0m: name 'fk' is not defined"
     ]
    }
   ],
   "source": [
    "T = sm.SE3.Trans(0.35, 0, 0.45) * sm.SE3.RPY(0, -0.5*np.pi, 0)\n",
    "# qt, success = ik(ets, T)\n",
    "qt, success = ik2(ets, T)\n",
    "ets.fkine(qt)"
   ]
  },
  {
   "cell_type": "code",
   "execution_count": null,
   "metadata": {},
   "outputs": [],
   "source": []
  }
 ],
 "metadata": {
  "kernelspec": {
   "display_name": "dualarm",
   "language": "python",
   "name": "python3"
  },
  "language_info": {
   "codemirror_mode": {
    "name": "ipython",
    "version": 3
   },
   "file_extension": ".py",
   "mimetype": "text/x-python",
   "name": "python",
   "nbconvert_exporter": "python",
   "pygments_lexer": "ipython3",
   "version": "3.12.4"
  }
 },
 "nbformat": 4,
 "nbformat_minor": 2
}
